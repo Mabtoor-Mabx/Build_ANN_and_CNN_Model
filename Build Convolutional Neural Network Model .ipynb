{
 "cells": [
  {
   "cell_type": "markdown",
   "id": "a359253e",
   "metadata": {},
   "source": [
    "# Build Convolutional Neural Network Model \n",
    "\n",
    "**In This Notebook, we have to Build CNN(Convolutional Neural Network) Model. We are Using MNist Dataset from tensorflow datasets & Trying to get Best Accuracy using CNN Model**"
   ]
  },
  {
   "cell_type": "markdown",
   "id": "29451c4c",
   "metadata": {},
   "source": [
    "### Import Libraries"
   ]
  },
  {
   "cell_type": "code",
   "execution_count": 1,
   "id": "dd773ddb",
   "metadata": {},
   "outputs": [],
   "source": [
    "#importing the required libraries\n",
    "from tensorflow.keras.datasets import mnist\n",
    "from tensorflow.keras.models import Sequential\n",
    "from tensorflow.keras.layers import Conv2D\n",
    "from tensorflow.keras.layers import MaxPool2D\n",
    "from tensorflow.keras.layers import Flatten\n",
    "from tensorflow.keras.layers import Dropout\n",
    "from tensorflow.keras.layers import Dense"
   ]
  },
  {
   "cell_type": "markdown",
   "id": "4be70631",
   "metadata": {},
   "source": [
    "### Loading The Data"
   ]
  },
  {
   "cell_type": "code",
   "execution_count": 2,
   "id": "f8130aa4",
   "metadata": {},
   "outputs": [],
   "source": [
    "#loading data\n",
    "(X_train,Y_train) , (X_test,Y_test)=mnist.load_data()"
   ]
  },
  {
   "cell_type": "markdown",
   "id": "5be90e3c",
   "metadata": {},
   "source": [
    "### Reshaping The Data"
   ]
  },
  {
   "cell_type": "code",
   "execution_count": 3,
   "id": "962785d6",
   "metadata": {},
   "outputs": [],
   "source": [
    "#reshaping data\n",
    "X_train = X_train.reshape((X_train.shape[0], X_train.shape[1], X_train.shape[2], 1))\n",
    "X_test = X_test.reshape((X_test.shape[0],X_test.shape[1],X_test.shape[2],1)) "
   ]
  },
  {
   "cell_type": "code",
   "execution_count": 4,
   "id": "41798d60",
   "metadata": {},
   "outputs": [
    {
     "name": "stdout",
     "output_type": "stream",
     "text": [
      "(60000, 28, 28, 1)\n",
      "(10000, 28, 28, 1)\n"
     ]
    }
   ],
   "source": [
    "print(X_train.shape)\n",
    "print(X_test.shape)"
   ]
  },
  {
   "cell_type": "markdown",
   "id": "690798aa",
   "metadata": {},
   "source": [
    "### Normalize The Data"
   ]
  },
  {
   "cell_type": "code",
   "execution_count": 5,
   "id": "b72f7bdb",
   "metadata": {},
   "outputs": [],
   "source": [
    "#normalizing the pixel values\n",
    "X_train=X_train/255\n",
    "X_test=X_test/255"
   ]
  },
  {
   "cell_type": "markdown",
   "id": "91ee3ca3",
   "metadata": {},
   "source": [
    "### Building CNN Model"
   ]
  },
  {
   "cell_type": "code",
   "execution_count": 6,
   "id": "ce152933",
   "metadata": {},
   "outputs": [
    {
     "name": "stdout",
     "output_type": "stream",
     "text": [
      "Epoch 1/20\n",
      "1875/1875 [==============================] - 37s 19ms/step - loss: 0.1539 - accuracy: 0.9533\n",
      "Epoch 2/20\n",
      "1875/1875 [==============================] - 34s 18ms/step - loss: 0.0543 - accuracy: 0.9835\n",
      "Epoch 3/20\n",
      "1875/1875 [==============================] - 34s 18ms/step - loss: 0.0361 - accuracy: 0.9892\n",
      "Epoch 4/20\n",
      "1875/1875 [==============================] - 34s 18ms/step - loss: 0.0246 - accuracy: 0.9923\n",
      "Epoch 5/20\n",
      "1875/1875 [==============================] - 32s 17ms/step - loss: 0.0178 - accuracy: 0.9938\n",
      "Epoch 6/20\n",
      "1875/1875 [==============================] - 35s 19ms/step - loss: 0.0129 - accuracy: 0.9957\n",
      "Epoch 7/20\n",
      "1875/1875 [==============================] - 36s 19ms/step - loss: 0.0092 - accuracy: 0.9972\n",
      "Epoch 8/20\n",
      "1875/1875 [==============================] - 36s 19ms/step - loss: 0.0075 - accuracy: 0.9975\n",
      "Epoch 9/20\n",
      "1875/1875 [==============================] - 34s 18ms/step - loss: 0.0066 - accuracy: 0.9978\n",
      "Epoch 10/20\n",
      "1875/1875 [==============================] - 35s 19ms/step - loss: 0.0044 - accuracy: 0.9987\n",
      "Epoch 11/20\n",
      "1875/1875 [==============================] - 34s 18ms/step - loss: 0.0050 - accuracy: 0.9984\n",
      "Epoch 12/20\n",
      "1875/1875 [==============================] - 33s 17ms/step - loss: 0.0039 - accuracy: 0.9988\n",
      "Epoch 13/20\n",
      "1875/1875 [==============================] - 36s 19ms/step - loss: 0.0051 - accuracy: 0.9984\n",
      "Epoch 14/20\n",
      "1875/1875 [==============================] - 34s 18ms/step - loss: 0.0020 - accuracy: 0.9994\n",
      "Epoch 15/20\n",
      "1875/1875 [==============================] - 29s 16ms/step - loss: 0.0040 - accuracy: 0.9986\n",
      "Epoch 16/20\n",
      "1875/1875 [==============================] - 35s 19ms/step - loss: 0.0017 - accuracy: 0.9994\n",
      "Epoch 17/20\n",
      "1875/1875 [==============================] - 34s 18ms/step - loss: 0.0036 - accuracy: 0.9988\n",
      "Epoch 18/20\n",
      "1875/1875 [==============================] - 37s 20ms/step - loss: 0.0016 - accuracy: 0.9995\n",
      "Epoch 19/20\n",
      "1875/1875 [==============================] - 33s 18ms/step - loss: 0.0028 - accuracy: 0.9992\n",
      "Epoch 20/20\n",
      "1875/1875 [==============================] - 33s 17ms/step - loss: 0.0025 - accuracy: 0.9994\n"
     ]
    },
    {
     "data": {
      "text/plain": [
       "<keras.callbacks.History at 0x23b59338a60>"
      ]
     },
     "execution_count": 6,
     "metadata": {},
     "output_type": "execute_result"
    }
   ],
   "source": [
    "#defining model\n",
    "CNN_model=Sequential()\n",
    "#adding convolution layer\n",
    "CNN_model.add(Conv2D(32,(3,3),activation='relu',input_shape=(28,28,1)))\n",
    "#adding pooling layer\n",
    "CNN_model.add(MaxPool2D(2,2))\n",
    "#adding fully connected layer\n",
    "CNN_model.add(Flatten())\n",
    "CNN_model.add(Dense(100,activation='relu'))\n",
    "#adding output layer\n",
    "CNN_model.add(Dense(10,activation='softmax'))\n",
    "#compiling the model\n",
    "CNN_model.compile(loss='sparse_categorical_crossentropy',optimizer='adam',metrics=['accuracy'])\n",
    "#fitting the model\n",
    "CNN_model.fit(X_train,Y_train,epochs=20)"
   ]
  },
  {
   "cell_type": "markdown",
   "id": "8d38d165",
   "metadata": {},
   "source": [
    "**WOW! We have got 99% accuracy. Its Time to Evaluate The Model**"
   ]
  },
  {
   "cell_type": "markdown",
   "id": "9da71fdd",
   "metadata": {},
   "source": [
    "### Evaluate The Model"
   ]
  },
  {
   "cell_type": "code",
   "execution_count": 7,
   "id": "c6d66a24",
   "metadata": {},
   "outputs": [
    {
     "name": "stdout",
     "output_type": "stream",
     "text": [
      "313/313 [==============================] - 3s 5ms/step - loss: 0.0653 - accuracy: 0.9857\n"
     ]
    },
    {
     "data": {
      "text/plain": [
       "[0.06534815579652786, 0.9857000112533569]"
      ]
     },
     "execution_count": 7,
     "metadata": {},
     "output_type": "execute_result"
    }
   ],
   "source": [
    "CNN_model.evaluate(X_test,Y_test)"
   ]
  }
 ],
 "metadata": {
  "kernelspec": {
   "display_name": "Python 3 (ipykernel)",
   "language": "python",
   "name": "python3"
  },
  "language_info": {
   "codemirror_mode": {
    "name": "ipython",
    "version": 3
   },
   "file_extension": ".py",
   "mimetype": "text/x-python",
   "name": "python",
   "nbconvert_exporter": "python",
   "pygments_lexer": "ipython3",
   "version": "3.10.5"
  }
 },
 "nbformat": 4,
 "nbformat_minor": 5
}
